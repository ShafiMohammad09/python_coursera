{
  "metadata": {
    "language_info": {
      "codemirror_mode": {
        "name": "python",
        "version": 3
      },
      "file_extension": ".py",
      "mimetype": "text/x-python",
      "name": "python",
      "nbconvert_exporter": "python",
      "pygments_lexer": "ipython3",
      "version": "3.8"
    },
    "kernelspec": {
      "name": "python",
      "display_name": "Python (Pyodide)",
      "language": "python"
    }
  },
  "nbformat_minor": 4,
  "nbformat": 4,
  "cells": [
    {
      "cell_type": "raw",
      "source": "Question 1\n\nFill in the blank to complete the “first_character” function. This function should return the first character of any string passed in.  Complete the string operation needed in this function so that input like \"Hello, World\" will produce the output \"H\".",
      "metadata": {}
    },
    {
      "cell_type": "code",
      "source": "def first_character(string):\n    # Complete the return statement using a string operation.\n    return string[0]\n\n\nprint(first_character(\"Hello, World\")) # Should print H\nprint(first_character(\"Python is awesome\")) # Should print P\nprint(first_character(\"Keep going\")) # Should print K\n",
      "metadata": {
        "trusted": true
      },
      "execution_count": 2,
      "outputs": [
        {
          "name": "stdout",
          "text": "H\nP\nK\n",
          "output_type": "stream"
        }
      ]
    },
    {
      "cell_type": "raw",
      "source": "Question 2\n\nComplete the for loop and string method needed in this function so that a function call like \"alpha_length(\"This has 1 number in it\")\" will return the output \"17\". This function should:\n\n    accept a string through the parameters of the function;\n\n    iterate over the characters in the string;\n\n    determine if each character is a letter (counting only alphabetic characters; numbers, punctuation, and spaces should be ignored);\n\n    increment the counter;\n\n    return the count of letters in the string.",
      "metadata": {}
    },
    {
      "cell_type": "code",
      "source": "def alpha_length(string):\n    character = \"\"\n    count_alpha = 0\n    # Complete the for loop sequence to iterate over \"string\".\n    for char in string: \n        # Complete the if-statement using a string method. \n        if char.isalpha():\n            count_alpha += 1  \n    return count_alpha\n \nprint(alpha_length(\"This has 1 number in it\")) # Should print 17\nprint(alpha_length(\"Thisisallletters\")) # Should print 16\nprint(alpha_length(\"This one has punctuation!\")) # Should print 21\n",
      "metadata": {
        "trusted": true
      },
      "execution_count": 3,
      "outputs": [
        {
          "name": "stdout",
          "text": "17\n16\n21\n",
          "output_type": "stream"
        }
      ]
    },
    {
      "cell_type": "raw",
      "source": "Question 3\n\nConsider the following scenario about using Python lists: \n\nEmployees at a company shared  the distance they drive to work (in miles) through an online survey. These distances were automatically added by Python to a list called “distances” in the order that each employee submitted their distance. Management wants the list to be sorted in the order of the longest distance to the shortest distance. \n\nComplete the function to sort the “distances” list. This function should:\n\n    sort the given “distances” list, passed through the function’s parameters; ; \n\n    reverse the sort order so that it goes from the longest to the shortest distance;\n\n    return the modified “distances” list.",
      "metadata": {}
    },
    {
      "cell_type": "code",
      "source": " def sort_distance(distances):\n    distances.sort(reverse=True) # Sort the list in descending order\n    return distances\n\n\nprint(sort_distance([2,4,0,15,8,9]))\n# Should print [15, 9, 8, 4, 2, 0]\n",
      "metadata": {
        "trusted": true
      },
      "execution_count": 4,
      "outputs": [
        {
          "name": "stdout",
          "text": "[15, 9, 8, 4, 2, 0]\n",
          "output_type": "stream"
        }
      ]
    },
    {
      "cell_type": "raw",
      "source": "Fill in the blank to complete the “even_numbers” function. This function should use a list comprehension to create a list of even numbers using a conditional if statement with the modulo operator to test for numbers evenly divisible by 2. The function receives two variables and should return the list of even numbers that occur between the “first” and “last” variables exclusively (meaning don’t modify the default behavior of the range to exclude the “end” value in the range). For example, even_numbers(2, 7) should return [2, 4, 6].",
      "metadata": {}
    },
    {
      "cell_type": "code",
      "source": "def even_numbers(first, last):\n    return [num for num in range(first, last+1) if num % 2 == 0]\n\n\nprint(even_numbers(4, 14)) # Should print [4, 6, 8, 10, 12]\nprint(even_numbers(0, 9))  # Should print [0, 2, 4, 6, 8]\nprint(even_numbers(2, 7))  # Should print [2, 4, 6]\n",
      "metadata": {
        "trusted": true
      },
      "execution_count": 5,
      "outputs": [
        {
          "name": "stdout",
          "text": "[4, 6, 8, 10, 12, 14]\n[0, 2, 4, 6, 8]\n[2, 4, 6]\n",
          "output_type": "stream"
        }
      ]
    },
    {
      "cell_type": "raw",
      "source": "Question 5\n\nFill in the blanks to complete the “car_listing” function. This function accepts a “car_prices” dictionary. It should iterate through the keys (car models) and values (car prices) in that dictionary. For each item pair, the function should format a string so that a dictionary entry like ““Kia Soul“:19000” will print \"A Kia Soul costs 19000 dollars\". Each new string should appear on its own line.",
      "metadata": {}
    },
    {
      "cell_type": "code",
      "source": "def car_listing(car_prices):\n    result = \"\"\n    for car, price in car_prices.items():\n        result += \"A \" + car + \" costs \" + str(price) + \" dollars\\n\"\n    return result\n\nprint(car_listing({\"Kia Soul\":19000, \"Lamborghini Diablo\":55000, \"Ford Fiesta\":13000, \"Toyota Prius\":24000}))\n\n# Should print:\n# A Kia Soul costs 19000 dollars\n# A Lamborghini Diablo costs 55000 dollars\n# A Ford Fiesta costs 13000 dollars\n# A Toyota Prius costs 24000 dollars\n",
      "metadata": {
        "trusted": true
      },
      "execution_count": 6,
      "outputs": [
        {
          "name": "stdout",
          "text": "A Kia Soul costs 19000 dollars\nA Lamborghini Diablo costs 55000 dollars\nA Ford Fiesta costs 13000 dollars\nA Toyota Prius costs 24000 dollars\n\n",
          "output_type": "stream"
        }
      ]
    },
    {
      "cell_type": "raw",
      "source": "Consider the following scenario about using Python dictionaries: \n\nTessa and Rick are hosting a party. Together, they sent out invitations, and collected the responses in a dictionary, with names of their friends and the number of guests each friend will be bringing. \n\nComplete the function so that the “check_guests” function retrieves the number of guests (value)  the specified friend “guest” (key) is bringing. This function should:\n\n    accept a dictionary “guest_list” and a key “guest” variable passed through the function parameters;\n\n    print the values associated with the key variable.",
      "metadata": {}
    },
    {
      "cell_type": "code",
      "source": "def check_guests(guest_list, guest):\n  return guest_list[guest] # Retrieve the value corresponding to the given key\n\n\nguest_list = { \"Adam\":3, \"Camila\":3, \"David\":5, \"Jamal\":3, \"Charley\":2, \"Titus\":1, \"Raj\":6, \"Noemi\":1, \"Sakira\":3, \"Chidi\":5}\n\n\nprint(check_guests(guest_list, \"Adam\")) # Should print 3\nprint(check_guests(guest_list, \"Sakira\")) # Should print 3\nprint(check_guests(guest_list, \"Charley\")) # Should print 2\n",
      "metadata": {
        "trusted": true
      },
      "execution_count": 7,
      "outputs": [
        {
          "name": "stdout",
          "text": "3\n3\n2\n",
          "output_type": "stream"
        }
      ]
    },
    {
      "cell_type": "raw",
      "source": "Question 7\n\nUse a dictionary to count the frequency of numbers in the given “text” string. Only numbers should be counted. Do not count blank spaces, letters, or punctuation. Complete the function so that input like \"1001000111101\" will return a dictionary that holds the count of each number that occurs in the string  {'1': 7, '0': 6}. This function should: \n\n    accept a string “text” variable through the function’s parameters;\n\n    initialize an new dictionary;\n\n    iterate over each text character to check if the character is a number’\n\n    count the frequency of numbers in the input string, ignoring all other characters;\n\n    populate the new dictionary with the numbers as keys, ensuring each key is unique, and assign the value for each key with the count of that number;\n\n    return the new dictionary.",
      "metadata": {}
    },
    {
      "cell_type": "code",
      "source": "def count_numbers(text):\n  # Initialize a new dictionary.\n  dictionary = {}\n  # Complete the for loop to iterate through each \"text\" character.\n  for character in text:\n    # Complete the if-statement using a string method to check if the\n    # character is a number.\n    if character.isdigit():\n      # Complete the if-statement using a logical operator to check if \n      # the number is not already in the dictionary.\n      if character not in dictionary:\n           # Use a dictionary operation to add the number as a key\n           # and set the initial count value to zero.\n           dictionary[character] = 0\n      # Use a dictionary operation to increment the number count value \n      # for the existing key.\n      dictionary[character] += 1\n  return dictionary\n\nprint(count_numbers(\"1001000111101\"))\n# Should be {'1': 7, '0': 6}\n\nprint(count_numbers(\"Math is fun! 2+2=4\"))\n# Should be {'2': 2, '4': 1}\n\nprint(count_numbers(\"This is a sentence.\"))\n# Should be {}\n\nprint(count_numbers(\"55 North Center Drive\"))\n# Should be {'5': 2}\n",
      "metadata": {
        "trusted": true
      },
      "execution_count": 8,
      "outputs": [
        {
          "name": "stdout",
          "text": "{'1': 7, '0': 6}\n{'2': 2, '4': 1}\n{}\n{'5': 2}\n",
          "output_type": "stream"
        }
      ]
    },
    {
      "cell_type": "raw",
      "source": "Question 8\n\nWhat do the following commands return when car_make = \"Lamborghini\"?\nprint(car_make[3:-5])\nprint(car_make[-4:])\nprint(car_make[:7])",
      "metadata": {}
    },
    {
      "cell_type": "code",
      "source": "\n\n'''bor, hini, Lamborg'''",
      "metadata": {
        "trusted": true
      },
      "execution_count": 9,
      "outputs": [
        {
          "execution_count": 9,
          "output_type": "execute_result",
          "data": {
            "text/plain": "'bor, hini, Lamborg'"
          },
          "metadata": {}
        }
      ]
    },
    {
      "cell_type": "raw",
      "source": "Question 9\n\nWhat does the list \"colors\" contain after these commands are executed?\ncolors = [\"red\", \"white\", \"blue\"]\ncolors.insert(2, \"yellow\")\n\n['red', 'yellow', 'white', 'blue']\n\n['red', 'yellow', 'blue']\n\n['red', 'white', 'yellow']\n\n['red', 'white', 'yellow', 'blue']",
      "metadata": {}
    },
    {
      "cell_type": "code",
      "source": "'''['red', 'white', 'yellow', 'blue']'''",
      "metadata": {
        "trusted": true
      },
      "execution_count": 10,
      "outputs": [
        {
          "execution_count": 10,
          "output_type": "execute_result",
          "data": {
            "text/plain": "\"['red', 'white', 'yellow', 'blue']\""
          },
          "metadata": {}
        }
      ]
    },
    {
      "cell_type": "raw",
      "source": "Question 10\n\nWhat do the following commands return?\n\nspeed_limits = {\"street\": 35, \"highway\": 65, \"school\": 15}\nspeed_limits[\"highway\"]\n\n\n65\n\n{\"highway\": 65}\n\n[\"highway\", 65]\n\n[65]",
      "metadata": {}
    },
    {
      "cell_type": "code",
      "source": "'''65'''",
      "metadata": {
        "trusted": true
      },
      "execution_count": 11,
      "outputs": [
        {
          "execution_count": 11,
          "output_type": "execute_result",
          "data": {
            "text/plain": "'65'"
          },
          "metadata": {}
        }
      ]
    },
    {
      "cell_type": "code",
      "source": "",
      "metadata": {},
      "execution_count": null,
      "outputs": []
    }
  ]
}